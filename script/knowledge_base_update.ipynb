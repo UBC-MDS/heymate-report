{
 "cells": [
  {
   "cell_type": "markdown",
   "id": "cd92ccf9-a4e9-4cda-9b3c-f7e21e24e1dc",
   "metadata": {},
   "source": [
    "This notebook allows you to manage web requests that invoke Flask-based HTTP functions as needed to load additional cleaned data into the knowledge base, and subsequently update the materialized view used for popularity score calculation."
   ]
  },
  {
   "cell_type": "code",
   "execution_count": 1,
   "id": "a17a529c-79ac-4831-9b89-4b1b995fa221",
   "metadata": {},
   "outputs": [],
   "source": [
    "import requests\n",
    "from concurrent.futures import ThreadPoolExecutor, as_completed\n",
    "\n",
    "def dispatch_etl_requests(\n",
    "    start_row_index, \n",
    "    end_row_index, \n",
    "    source, \n",
    "    batch_size=20, \n",
    "    max_workers=10, \n",
    "    base_url=\"http://127.0.0.1:8181/etl\"\n",
    "):\n",
    "    \"\"\"\n",
    "    Dispatches concurrent ETL requests to the specified endpoint.\n",
    "\n",
    "    Args:\n",
    "        start_row_index (int): Start index (inclusive)\n",
    "        end_row_index (int): End index (inclusive)\n",
    "        source (str): Specifies the data source.\n",
    "            - 'training': Uses the knowledge base or an external database.\n",
    "            - 'testing': Uses the Heymate internal database.\n",
    "        batch_size (int): Number of rows per batch\n",
    "        max_workers (int): Number of concurrent workers\n",
    "        base_url (str): Base URL of the ETL endpoint\n",
    "\n",
    "    Returns:\n",
    "        List of tuples: (status_code, url, response_text)\n",
    "    \"\"\"\n",
    "    # Generate a list of URLs\n",
    "    urls = [\n",
    "        f\"{base_url}?start_row_index={i}&end_row_index={min(i+batch_size-1, end_row_index)}&source={source}\"\n",
    "        for i in range(start_row_index, end_row_index + 1, batch_size)\n",
    "    ]\n",
    "\n",
    "    def fetch(url):\n",
    "        try:\n",
    "            response = requests.get(url)\n",
    "            return response.status_code, url, response.text\n",
    "        except Exception as e:\n",
    "            return None, url, str(e)\n",
    "\n",
    "    with ThreadPoolExecutor(max_workers=max_workers) as executor:\n",
    "        futures = [executor.submit(fetch, url) for url in urls]\n",
    "        for future in as_completed(futures):\n",
    "            status, url, result = future.result()\n",
    "            print(f\"[{status}] {url} → {result[:200]}...\")\n",
    "\n"
   ]
  },
  {
   "cell_type": "code",
   "execution_count": 2,
   "id": "e1eb0a93-c5a0-4515-bc79-43624e3c77be",
   "metadata": {},
   "outputs": [
    {
     "name": "stdout",
     "output_type": "stream",
     "text": [
      "[200] http://127.0.0.1:8181/etl?start_row_index=300101&end_row_index=300130&source=training → ...\n",
      "[200] http://127.0.0.1:8181/etl?start_row_index=300191&end_row_index=300200&source=training → ...\n",
      "[200] http://127.0.0.1:8181/etl?start_row_index=300131&end_row_index=300160&source=training → ...\n",
      "[200] http://127.0.0.1:8181/etl?start_row_index=300161&end_row_index=300190&source=training → ...\n"
     ]
    }
   ],
   "source": [
    "# Example usage of dispatch_etl_requests\n",
    "\n",
    "# This will dispatch ETL requests for rows 300101 to 300200 (inclusive),\n",
    "# using the 'training' source, in batches of 30 rows each.\n",
    "# Up to 16 requests will be processed concurrently.\n",
    "# The requests will be sent to the specified ETL endpoint.\n",
    "\n",
    "dispatch_etl_requests(300101, 300200, \"training\", batch_size=30, max_workers=16)"
   ]
  },
  {
   "cell_type": "code",
   "execution_count": 3,
   "id": "34d61cc4",
   "metadata": {},
   "outputs": [
    {
     "name": "stderr",
     "output_type": "stream",
     "text": [
      "/Users/krabssiew/Desktop/MDS/Block 6/capstone/heymate-report/script/util_database_reader.py:59: UserWarning: pandas only supports SQLAlchemy connectable (engine/connection) or database string URI or sqlite3 DBAPI2 connection. Other DBAPI2 objects are not tested. Please consider using SQLAlchemy.\n",
      "  df = pd.read_sql(query, conn)\n"
     ]
    },
    {
     "name": "stdout",
     "output_type": "stream",
     "text": [
      "Read 30200 rows from SQL Server.\n",
      "Table cleaned_menu_with_popularity is ready.\n",
      "Truncating table cleaned_menu_with_popularity...\n",
      "Uploaded 24407 rows to cleaned_menu_with_popularity\n"
     ]
    }
   ],
   "source": [
    "# After all new data is loaded, update the materialized view for the popularity score.\n",
    "from popularity_score_calculator import calculate_and_upload\n",
    "calculate_and_upload(truncate=True)"
   ]
  }
 ],
 "metadata": {
  "kernelspec": {
   "display_name": "Python 3 (ipykernel)",
   "language": "python",
   "name": "python3"
  },
  "language_info": {
   "codemirror_mode": {
    "name": "ipython",
    "version": 3
   },
   "file_extension": ".py",
   "mimetype": "text/x-python",
   "name": "python",
   "nbconvert_exporter": "python",
   "pygments_lexer": "ipython3",
   "version": "3.11.12"
  }
 },
 "nbformat": 4,
 "nbformat_minor": 5
}
