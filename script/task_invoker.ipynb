{
 "cells": [
  {
   "cell_type": "markdown",
   "id": "cd92ccf9-a4e9-4cda-9b3c-f7e21e24e1dc",
   "metadata": {},
   "source": [
    "You can make web requests to invoke Flask-based HTTP functions as needed to load more cleaning more data"
   ]
  },
  {
   "cell_type": "code",
   "execution_count": 1,
   "id": "a17a529c-79ac-4831-9b89-4b1b995fa221",
   "metadata": {},
   "outputs": [],
   "source": [
    "import requests\n",
    "from concurrent.futures import ThreadPoolExecutor, as_completed\n",
    "\n",
    "def dispatch_etl_requests(\n",
    "    start_row_index, \n",
    "    end_row_index, \n",
    "    source, \n",
    "    batch_size=20, \n",
    "    max_workers=10, \n",
    "    base_url=\"http://127.0.0.1:8181/etl\"\n",
    "):\n",
    "    \"\"\"\n",
    "    Dispatches concurrent ETL requests to the specified endpoint.\n",
    "\n",
    "    Args:\n",
    "        start_row_index (int): Start index (inclusive)\n",
    "        end_row_index (int): End index (inclusive)\n",
    "        source (str): Specifies the data source.\n",
    "            - 'training': Uses the knowledge base or an external database.\n",
    "            - 'testing': Uses the Heymate internal database.\n",
    "        batch_size (int): Number of rows per batch\n",
    "        max_workers (int): Number of concurrent workers\n",
    "        base_url (str): Base URL of the ETL endpoint\n",
    "\n",
    "    Returns:\n",
    "        List of tuples: (status_code, url, response_text)\n",
    "    \"\"\"\n",
    "    # Generate a list of URLs\n",
    "    urls = [\n",
    "        f\"{base_url}?start_row_index={i}&end_row_index={min(i+batch_size-1, end_row_index)}&source={source}\"\n",
    "        for i in range(start_row_index, end_row_index + 1, batch_size)\n",
    "    ]\n",
    "\n",
    "    def fetch(url):\n",
    "        try:\n",
    "            response = requests.get(url)\n",
    "            return response.status_code, url, response.text\n",
    "        except Exception as e:\n",
    "            return None, url, str(e)\n",
    "\n",
    "    with ThreadPoolExecutor(max_workers=max_workers) as executor:\n",
    "        futures = [executor.submit(fetch, url) for url in urls]\n",
    "        for future in as_completed(futures):\n",
    "            status, url, result = future.result()\n",
    "            print(f\"[{status}] {url} → {result[:200]}...\")\n",
    "\n"
   ]
  },
  {
   "cell_type": "code",
   "execution_count": null,
   "id": "e1eb0a93-c5a0-4515-bc79-43624e3c77be",
   "metadata": {},
   "outputs": [],
   "source": [
    "# Example usage of dispatch_etl_requests\n",
    "\n",
    "# This will dispatch ETL requests for rows 500 to 600 (inclusive),\n",
    "# using the 'training' source, in batches of 10 rows each.\n",
    "# Up to 5 requests will be processed concurrently.\n",
    "# The requests will be sent to the specified ETL endpoint.\n",
    "\n",
    "# dispatch_etl_requests(500, 600, \"training\", batch_size=10, max_workers=5)"
   ]
  }
 ],
 "metadata": {
  "kernelspec": {
   "display_name": "Python 3 (ipykernel)",
   "language": "python",
   "name": "python3"
  },
  "language_info": {
   "codemirror_mode": {
    "name": "ipython",
    "version": 3
   },
   "file_extension": ".py",
   "mimetype": "text/x-python",
   "name": "python",
   "nbconvert_exporter": "python",
   "pygments_lexer": "ipython3",
   "version": "3.11.12"
  }
 },
 "nbformat": 4,
 "nbformat_minor": 5
}
